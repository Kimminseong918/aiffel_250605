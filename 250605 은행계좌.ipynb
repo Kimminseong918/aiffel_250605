{
 "cells": [
  {
   "cell_type": "code",
   "execution_count": 11,
   "id": "c46f45d8",
   "metadata": {},
   "outputs": [],
   "source": [
    "import random\n",
    "\n",
    "#은행이름: bank_name, 예금주: name, 계좌번호: account_num, 잔액: balance, 금액: amount\n",
    "class Account:\n",
    "    account_count=0\n",
    "    \n",
    "    #Q1, Q2\n",
    "    def __init__(self, name, balance): #생성자는 예금주와 초기잔액만 입력받음\n",
    "        self.bank_name='SC은행'\n",
    "        self.name=name\n",
    "        self.balance=balance\n",
    "        \n",
    "        num1=str(random.randint(100, 999))\n",
    "        num2=str(random.randint(10, 99))\n",
    "        num3=str(random.randint(100000, 999999))\n",
    "        self.account_num=f\"{num1}-{num2}-{num3}\" #Q1\n",
    "        \n",
    "        Account.account_count+=1 #Q2\n",
    "        \n",
    "        #Q7\n",
    "        self.deposit_count=0\n",
    "        #Q10\n",
    "        self.deposit_list=[] #입금내역\n",
    "        self.withdraw_list=[] #출금내역\n",
    "        \n",
    "    #Q3    \n",
    "    @classmethod\n",
    "    def get_account_num(cls):\n",
    "        print(f'생성된 계좌의 개수: {cls.account_count}')\n",
    "        return cls.account_count\n",
    "    \n",
    "    #Q4\n",
    "    #입금\n",
    "    def deposit(self, amount):\n",
    "        if amount >=1:\n",
    "            self.balance+=amount #잔액에 금액 더하기\n",
    "            self.deposit_count+=1\n",
    "            self.deposit_list.append(amount)\n",
    "            if self.deposit_count % 5 ==0: #Q7\n",
    "                interest=int(self.balance*0.01)\n",
    "                self.balance+=interest\n",
    "        else:\n",
    "            print('입금은 최소 1원 이상만 가능합니다.')\n",
    "            return False     \n",
    "        \n",
    "    #Q5\n",
    "    #출금\n",
    "    def withdraw(self, amount):\n",
    "        if amount < 1:\n",
    "            print('출금은 최소 이원 이상만 가능합니다.')\n",
    "        elif amount > self.balance:\n",
    "            print('출금은 계좌의 잔고 이상으로 출금할 수는 없습니다.')\n",
    "        else:\n",
    "            self.balance-=amount\n",
    "            self.withdraw_list.append(amount)\n",
    "            \n",
    "    #Q6\n",
    "    def display_info(self):\n",
    "        print(f'은행이름: {self.bank_name}, 예금주: {self.name}, 계좌번호: {self.account_num}, 잔고: {self.balance:,}원')\n",
    "    \n",
    "    #Q10\n",
    "    def deposit_history(self):\n",
    "        if not self.deposit_list:\n",
    "            print('입금내역: 없음')\n",
    "        else:\n",
    "            print('입금내역:')\n",
    "            for i in self.deposit_list:\n",
    "                print(f'>>> {format(i, \",\")}원')\n",
    "\n",
    "    def withdraw_history(self):\n",
    "        if not self.withdraw_list:\n",
    "            print('출금내역: 없음')\n",
    "        else:\n",
    "            print('출금내역:')\n",
    "            for i in self.withdraw_list:\n",
    "                print(f'>>> {format(i, \",\")}원')\n",
    "\n",
    "    "
   ]
  },
  {
   "cell_type": "code",
   "execution_count": 13,
   "id": "eb534968",
   "metadata": {
    "scrolled": true
   },
   "outputs": [
    {
     "name": "stdout",
     "output_type": "stream",
     "text": [
      "은행이름: SC은행, 예금주: 가나다, 계좌번호: 711-50-177834, 잔고: 1,000,000원\n",
      "은행이름: SC은행, 예금주: 마바사, 계좌번호: 702-64-354628, 잔고: 2,000,000원\n",
      "은행이름: SC은행, 예금주: 아자차, 계좌번호: 340-59-676215, 잔고: 15,000,000원\n"
     ]
    }
   ],
   "source": [
    "#Q8\n",
    "list=[\n",
    "    Account('가나다', 1000000),\n",
    "    Account('마바사', 2000000),\n",
    "    Account('아자차', 15000000)\n",
    "]\n",
    "\n",
    "#Q9\n",
    "for i in list:\n",
    "    if i.balance>=1000000:\n",
    "        i.display_info()"
   ]
  },
  {
   "cell_type": "code",
   "execution_count": 12,
   "id": "d9f0fb38",
   "metadata": {},
   "outputs": [
    {
     "name": "stdout",
     "output_type": "stream",
     "text": [
      "입금내역:\n",
      ">>> 10,000원\n",
      ">>> 20,000원\n",
      "출금내역:\n",
      ">>> 5,000원\n"
     ]
    }
   ],
   "source": [
    "a = Account(\"파이썬\", 50000)\n",
    "a.deposit(10000)\n",
    "a.deposit(20000)\n",
    "a.withdraw(5000)\n",
    "a.deposit_history()\n",
    "a.withdraw_history()"
   ]
  },
  {
   "cell_type": "code",
   "execution_count": null,
   "id": "5729fb35",
   "metadata": {},
   "outputs": [],
   "source": []
  }
 ],
 "metadata": {
  "kernelspec": {
   "display_name": "Python 3 (ipykernel)",
   "language": "python",
   "name": "python3"
  },
  "language_info": {
   "codemirror_mode": {
    "name": "ipython",
    "version": 3
   },
   "file_extension": ".py",
   "mimetype": "text/x-python",
   "name": "python",
   "nbconvert_exporter": "python",
   "pygments_lexer": "ipython3",
   "version": "3.9.7"
  }
 },
 "nbformat": 4,
 "nbformat_minor": 5
}
